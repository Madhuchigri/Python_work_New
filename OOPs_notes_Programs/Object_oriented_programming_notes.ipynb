{
 "cells": [
  {
   "cell_type": "markdown",
   "metadata": {},
   "source": [
    "# Object Oriented Programming"
   ]
  },
  {
   "cell_type": "markdown",
   "metadata": {},
   "source": [
    "# 1. Classes and Objects:"
   ]
  },
  {
   "cell_type": "markdown",
   "metadata": {},
   "source": [
    "CLASS: A class is logical grouping of attributes(variables) and methods(functions) "
   ]
  },
  {
   "cell_type": "markdown",
   "metadata": {},
   "source": [
    "Syntax:\n",
    "    Class ClassName:\n",
    "        #classbody\n",
    "Example:\n",
    "    Class Employee:\n",
    "        # class body\n",
    "        \n",
    "        "
   ]
  },
  {
   "cell_type": "markdown",
   "metadata": {},
   "source": [
    "Object: it is an instance of a class having access to all the methods and attributes of a class"
   ]
  },
  {
   "cell_type": "markdown",
   "metadata": {},
   "source": [
    "Syntax: \n",
    "    objectName = ClassName()\n",
    "    \n",
    "Example:\n",
    "    employee = Employee()\n",
    "    "
   ]
  },
  {
   "cell_type": "markdown",
   "metadata": {},
   "source": [
    "**The process of creation of an object of a class is called instantiation \n",
    " "
   ]
  },
  {
   "cell_type": "markdown",
   "metadata": {},
   "source": [
    "# 2. Attributes and Methods"
   ]
  },
  {
   "cell_type": "markdown",
   "metadata": {},
   "source": [
    "Data members are attributes declared within a class. They are properties that further deﬁne a class.   \n",
    "There are two types of attributes: class attributes and instance attributes.\n"
   ]
  },
  {
   "cell_type": "markdown",
   "metadata": {},
   "source": [
    "Class Attributes: An attribute that is common across all instances of a class is called a class attribute.    \n",
    "Class attributes are accessed by using class name as the preﬁx. "
   ]
  },
  {
   "cell_type": "markdown",
   "metadata": {},
   "source": [
    "Syntax: \n",
    "    \n",
    "    class Classname:\n",
    "        classAttribute = value\n",
    "Example:\n",
    "\n",
    "    class Employee:\n",
    "       numberofEmployees = 0"
   ]
  },
  {
   "cell_type": "markdown",
   "metadata": {},
   "source": [
    "Instance Attributes:An attribute that is speciﬁc to each instance of a class is called an instance attribute.    \n",
    "Instance attributes are accessed within an instance method by making use of the self object. "
   ]
  },
  {
   "cell_type": "markdown",
   "metadata": {},
   "source": [
    "Syntax:\n",
    "    \n",
    "    class classname:\n",
    "        def methodname(self):\n",
    "            self.instanceattributes = value\n",
    "\n",
    "Example:\n",
    "\n",
    "    class Employee:\n",
    "        def employeeDetails(self,name)\n",
    "        self.name = name"
   ]
  },
  {
   "cell_type": "markdown",
   "metadata": {},
   "source": [
    "Self Parameter:\n",
    "    Every instance method accepts has a default parameter that is being accepted. By convention, this parameter is named self.\n",
    "    The self parameter is used to refer to the attributes of that instance of the class. \n",
    "\n",
    "Example: \n",
    "   \n",
    "   class Employee:\n",
    "   \n",
    "    def setname(self,name):\n",
    "    self.name = name \n",
    "    \n",
    "employee = Employee()\n",
    "\n",
    "employee.setname('john')"
   ]
  },
  {
   "cell_type": "markdown",
   "metadata": {},
   "source": [
    "# Methods"
   ]
  },
  {
   "cell_type": "markdown",
   "metadata": {},
   "source": [
    " A function within a class that performs a speciﬁc action is called a method belonging to that class.\n",
    "Methods are of two types: static method and instance method\n"
   ]
  },
  {
   "cell_type": "markdown",
   "metadata": {},
   "source": [
    "1. Instance Method:\n",
    "     A method which can access the instance attributes of a class by making use of self object is called an instance method   \n",
    "        \n",
    "        Syntax: \n",
    "            \n",
    "            def methodName(self):        \n",
    "                 # method body \n",
    "       \n",
    "       Example: \n",
    "            class Employee:      \n",
    "            # employeeDetails() is the instance method              \n",
    "            def employeeDetails(self, name):                \n",
    "            self.name = name \n",
    "           \n",
    "    "
   ]
  },
  {
   "cell_type": "markdown",
   "metadata": {},
   "source": [
    "2. Static Method:A method that does not have access to any of the instance attributes of a class is called a static method\n",
    "     Static method uses a decorator @staticmethod to indicate this method will not be taking the default self parameter.\n",
    "    "
   ]
  },
  {
   "cell_type": "markdown",
   "metadata": {},
   "source": [
    " Syntax:\n",
    "        @staticmethod            \n",
    "        # Observe that self is not being declared since this is a static method            \n",
    "        def methodName():              \n",
    "        # method body    \n",
    "        Example:\n",
    "        class Employee:            \n",
    "            numberOfEmployees = 0            \n",
    "            @StaticMethod\n",
    "            def updateNumberOfEmployees():              \n",
    "                Employee.numberOfEmployees += 1          \n",
    "            employeeOne = Employee()\n",
    "            employeeTwo = Employee()          \n",
    "            employeeOne.updateNumberOfEmployees()          \n",
    "            employeeTwo.updateNumberOfEmployees()          \n",
    "            print(Employee.numberOfEmployees)          \n",
    "            # We have used a static method that updates the class attribute of the class Employee.\n"
   ]
  },
  {
   "cell_type": "markdown",
   "metadata": {},
   "source": [
    "Init Method:An init method is the constructor of a class that can be used to initialize data members of that class.\n",
    "      It is the ﬁrst method that is being called on creation of an Object."
   ]
  },
  {
   "cell_type": "markdown",
   "metadata": {},
   "source": [
    "Syntax:            \n",
    "    def __init__(self):              \n",
    "    # Initialize the data members of the class    \n",
    "Example:            \n",
    "    class Employee:              \n",
    "        def __init__(self):                \n",
    "        print(\"Welcome!\")            \n",
    "employee = Employee()            # This would print Welcome! since __init__ method was called on object instantiation."
   ]
  },
  {
   "cell_type": "markdown",
   "metadata": {},
   "source": [
    "# Encapsulation"
   ]
  },
  {
   "cell_type": "markdown",
   "metadata": {},
   "source": [
    " Hiding the implementation details from the end user is called as encapsulation"
   ]
  },
  {
   "cell_type": "markdown",
   "metadata": {},
   "source": [
    "# Abstraction "
   ]
  },
  {
   "cell_type": "markdown",
   "metadata": {},
   "source": [
    " Abstraction is the process of steps followed to achieve encapsulation"
   ]
  },
  {
   "cell_type": "markdown",
   "metadata": {},
   "source": [
    "# Inheritance:"
   ]
  },
  {
   "cell_type": "markdown",
   "metadata": {},
   "source": [
    "Inheriting the attributes and methods from base class into derived class is called as Inheritance.\n",
    "\n",
    "Syntax:\n",
    "    \n",
    "    class Baseclass:\n",
    "        # Body of Baseclass\n",
    "        \n",
    "    class Derivedclass(Baseclass):\n",
    "        #Body of the Derived class\n",
    "        \n",
    "Example:\n",
    "    \n",
    "    class Shape:\n",
    "        unitofmeasurement = 'Centimeter'\n",
    "        \n",
    "    class Square(Shape):\n",
    "        def __init__(self):\n",
    "            Print(\"unit of Measurement for this square:\",self.unitofmeasurement)\n",
    "            \n",
    "square = Square()        "
   ]
  },
  {
   "cell_type": "markdown",
   "metadata": {},
   "source": [
    "# Multiple Inheritance:\n",
    "    "
   ]
  },
  {
   "cell_type": "markdown",
   "metadata": {},
   "source": [
    "Mechanism in which Derived class inherits from the one or more Base classes is called Multiple Inheritance.\n",
    "\n",
    "Syntax:\n",
    "\n",
    "class BaseclassOne:\n",
    "    # class Body\n",
    "  \n",
    "class BaseclassTwo:\n",
    "    # class Body\n",
    "    \n",
    " class derivedClass(Baseclassone,BaseclassTwo)\n",
    "     # class body\n",
    "     \n",
    "     \n",
    "Example:\n",
    "    \n",
    "    # Multiple Inheritance\n",
    "\n",
    "class OperatingSystem: # Base class\n",
    "\n",
    "     multitasking = True\n",
    "\n",
    "\n",
    "class Apple: # Base class\n",
    "\n",
    "    website = \"WWW.Apple.com\"\n",
    "\n",
    "\n",
    "class Macbook(OperatingSystem,Apple):\n",
    "\n",
    "    def __init__(self):\n",
    "       if  self.multitasking is True:\n",
    "           print(\"This is a multitasking System. Visit {} for more Details\".format(self.website)\n",
    "\n",
    "\n",
    "macbook = Macbook()\n"
   ]
  },
  {
   "cell_type": "markdown",
   "metadata": {},
   "source": [
    "# Multilevel Inheritance:"
   ]
  },
  {
   "cell_type": "markdown",
   "metadata": {},
   "source": [
    "Multilevel Inheritance:\n",
    "    \n",
    "    Mechanism in which the Derived class inherits from the Base class which has been derived from another Base class.\n",
    "    \n",
    "Syntax:\n",
    "    \n",
    "    class BaseClass:\n",
    "        # Body of the baseClass\n",
    "        \n",
    "    class DerivedClassOne(Baseclass):\n",
    "        # Body of the Derived class\n",
    "        \n",
    "    class DerivedClassTwo(Derivedclass)\n",
    "        # Body of the dervied class\n",
    "    \n",
    "\n",
    "class MusicalInstruments:\n",
    "\n",
    "    numberOfMajorKeys = 12\n",
    "\n",
    "\n",
    "class StringInstruments(MusicalInstruments):\n",
    "\n",
    "    typewood = \"Tonewood\"\n",
    "\n",
    "\n",
    "class Guitar(StringInstruments):\n",
    "\n",
    "    def __init__(self):\n",
    "        self.numberOfStrings = 6\n",
    "        print(\"This Guitar consists of {} strings. It is made of {} and it can play {} keys\".format(self.numberOfStrings, self.typewood,self.numberOfMajorKeys))\n",
    "\n",
    "\n",
    "guitar = Guitar()\n",
    "\n",
    "\n"
   ]
  },
  {
   "cell_type": "markdown",
   "metadata": {},
   "source": [
    "# Access Specifiers:\n",
    "    "
   ]
  },
  {
   "cell_type": "markdown",
   "metadata": {},
   "source": [
    "Private -> __memberName\n",
    "\n",
    "Protected -> _memberName\n",
    "\n",
    "Public -> memberName"
   ]
  },
  {
   "cell_type": "code",
   "execution_count": 5,
   "metadata": {},
   "outputs": [
    {
     "name": "stdout",
     "output_type": "stream",
     "text": [
      "Public attribute: 4\n",
      "Protected attribute color: Black\n",
      "Private attribute : 2017\n"
     ]
    }
   ],
   "source": [
    "# Access Specifiers\n",
    "\n",
    "# Public - member name :: Accessible anywhere in the program\n",
    "# Protected - _member name :: Accessible only to the Base class and Derived class\n",
    "# Private - __member name  :: Accessible only inside the class\n",
    "\n",
    "class Car:\n",
    "    numberOfWheels = 4\n",
    "    _color = \"Black\" # Protected Attribute\n",
    "    __yearofManufacture = 2017 # Private Attribute\n",
    "\n",
    "class Bmw(Car):\n",
    "    def __init__(self):\n",
    "        print(\"Protected attribute color:\",self._color)\n",
    "\n",
    "\n",
    "car = Car()\n",
    "print(\"Public attribute:\", car.numberOfWheels)\n",
    "bmw = Bmw()\n",
    "print(\"Private attribute :\", car._Car__yearofManufacture)   # ___yearofManufacture is internal stored as _Car__YearofManufacture"
   ]
  },
  {
   "cell_type": "markdown",
   "metadata": {},
   "source": [
    "# Polymorphism:"
   ]
  },
  {
   "cell_type": "markdown",
   "metadata": {},
   "source": [
    "The same interface existing in different forms is called polymorphism\n"
   ]
  },
  {
   "cell_type": "markdown",
   "metadata": {},
   "source": [
    "Example :\n",
    " An addition between two integers 2 + 2 return 4\n",
    "whereas an addition between two strings \"Hello\" + \"World\"\n",
    "concatenates it to \"Hello World\"\n"
   ]
  },
  {
   "cell_type": "markdown",
   "metadata": {},
   "source": [
    "Overriding And super Method:\n",
    "   \n",
    "   Modifying the inherited behaviour of methods of a base classin a derived class is called overriding."
   ]
  },
  {
   "cell_type": "code",
   "execution_count": 3,
   "metadata": {},
   "outputs": [
    {
     "name": "stdout",
     "output_type": "stream",
     "text": [
      "Number of working hours for an employee: 40\n",
      "Number of working hours for an employee: 45\n",
      "Number of working hours of a trainee after the reset:Number of working hours for an employee: 40\n"
     ]
    }
   ],
   "source": [
    "# Overriding and Super() Method\n",
    "\n",
    "class Employee:\n",
    "\n",
    "    def setnumberofworkinghours(self):\n",
    "        self.numberofworkinghours = 40\n",
    "\n",
    "\n",
    "    def display_number_working_hours(self):\n",
    "        print(\"Number of working hours for an employee:\", self.numberofworkinghours)\n",
    "\n",
    "\n",
    "class Trainee(Employee):\n",
    "    def setnumberofworkinghours(self):\n",
    "        self.numberofworkinghours = 45 # Overriding the value\n",
    "\n",
    "    def resetnumberofworkinghours(self):\n",
    "        super().setnumberofworkinghours() # super method helps in resetting value back\n",
    "\n",
    "\n",
    "employee = Employee()\n",
    "employee.setnumberofworkinghours()\n",
    "employee.display_number_working_hours()\n",
    "trainee = Trainee()\n",
    "trainee.setnumberofworkinghours()\n",
    "trainee.display_number_working_hours()\n",
    "print(\"Number of working hours of a trainee after the reset:\", end = '')\n",
    "trainee.resetnumberofworkinghours()\n",
    "trainee.display_number_working_hours()\n",
    "\n"
   ]
  },
  {
   "cell_type": "markdown",
   "metadata": {},
   "source": [
    "Diamond shape problem: methods overriden will be accessed from the derived class depending on their access priority."
   ]
  },
  {
   "cell_type": "markdown",
   "metadata": {},
   "source": [
    "# Operator Overloading:"
   ]
  },
  {
   "cell_type": "markdown",
   "metadata": {},
   "source": [
    "Redefining how an operator operates its operands is called operator overloading."
   ]
  },
  {
   "cell_type": "raw",
   "metadata": {},
   "source": [
    "Syntax:\n",
    "    \n",
    " def __operatorFunction__(operandOne, operandTwo\n",
    "                         ):\n",
    " # Define the operation that has to be performed"
   ]
  },
  {
   "cell_type": "code",
   "execution_count": 5,
   "metadata": {},
   "outputs": [
    {
     "name": "stdout",
     "output_type": "stream",
     "text": [
      "Sum of the sides of 2 squares: 120\n"
     ]
    }
   ],
   "source": [
    "# overloading an operator\n",
    "\n",
    "class Square:\n",
    "    def __init__(self,side):\n",
    "        self.side = side\n",
    "\n",
    "    def __add__(squareOne, squareTwo): # Overloading existing add method \n",
    "        return (4*squareOne.side) + (4*squareTwo.side)\n",
    "\n",
    "\n",
    "squareOne = Square(10)\n",
    "squareTwo = Square(20)\n",
    "print(\"Sum of the sides of 2 squares:\", squareOne+squareTwo)"
   ]
  }
 ],
 "metadata": {
  "kernelspec": {
   "display_name": "Python 3",
   "language": "python",
   "name": "python3"
  },
  "language_info": {
   "codemirror_mode": {
    "name": "ipython",
    "version": 3
   },
   "file_extension": ".py",
   "mimetype": "text/x-python",
   "name": "python",
   "nbconvert_exporter": "python",
   "pygments_lexer": "ipython3",
   "version": "3.8.3"
  }
 },
 "nbformat": 4,
 "nbformat_minor": 4
}
